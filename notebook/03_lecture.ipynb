{
 "cells": [
  {
   "cell_type": "markdown",
   "metadata": {
    "slideshow": {
     "slide_type": "slide"
    }
   },
   "source": [
    "# <span style=\"color:#6a5acd\">Un peu de calcul maintenant: factorielle</span>\n",
    "\n",
    "Calculons 6!"
   ]
  },
  {
   "cell_type": "markdown",
   "metadata": {
    "slideshow": {
     "slide_type": "slide"
    }
   },
   "source": [
    "## <span style=\"color:#6a5acd\">Rappel du flux de travail/workflow (c'est la routine)<span/>\n",
    "\n",
    "* aller dans le répertoire du cours : `$ cd ~/palc`\n",
    "* créer un nouveau répertoire : `$ mkdir factorielle`\n",
    "* aller dans le répertoire : `$ cd factorielle`\n",
    "* ouverture de l'éditeur\n",
    "     * création et sauvegarde d'un fichier `makefile`\n",
    "     * création et sauvegarde d'un fichier `factorial.c`\n",
    "     \n",
    "On veut créer un exécutable `factorial.exe` à partir de `factorial.c`"
   ]
  },
  {
   "cell_type": "markdown",
   "metadata": {
    "slideshow": {
     "slide_type": "slide"
    }
   },
   "source": [
    "Et maintenant on fait quoi?"
   ]
  },
  {
   "cell_type": "markdown",
   "metadata": {
    "slideshow": {
     "slide_type": "slide"
    }
   },
   "source": [
    "* édition de `factorial.c`\n",
    "* édition de `makefile`"
   ]
  },
  {
   "cell_type": "markdown",
   "metadata": {
    "slideshow": {
     "slide_type": "slide"
    }
   },
   "source": [
    "Répéter (si besoin est):\n",
    "* édition du fichier\n",
    "* compilation : `$ make`\n",
    "* exécuter le code : `$ ./factorial.exe`"
   ]
  },
  {
   "cell_type": "markdown",
   "metadata": {
    "slideshow": {
     "slide_type": "slide"
    }
   },
   "source": [
    "```C\n",
    "/* code pour calcul de 6! */\n",
    "\n",
    "\n",
    "```"
   ]
  },
  {
   "cell_type": "markdown",
   "metadata": {
    "slideshow": {
     "slide_type": "slide"
    }
   },
   "source": [
    "Maintenant essayons de calculer n! pour n quelconque."
   ]
  },
  {
   "cell_type": "markdown",
   "metadata": {
    "slideshow": {
     "slide_type": "slide"
    }
   },
   "source": [
    "Regardons un peu ce qui se passe avec le [debugger (`gdb`)](prise_en_main_gdb_1.ipynb)"
   ]
  },
  {
   "cell_type": "markdown",
   "metadata": {
    "slideshow": {
     "slide_type": "slide"
    }
   },
   "source": [
    "```C\n",
    "/* code pour calcul de n! */\n",
    "\n",
    "\n",
    "```"
   ]
  },
  {
   "cell_type": "markdown",
   "metadata": {
    "slideshow": {
     "slide_type": "slide"
    }
   },
   "source": [
    "# WTF!"
   ]
  },
  {
   "cell_type": "markdown",
   "metadata": {
    "slideshow": {
     "slide_type": "slide"
    }
   },
   "source": [
    "# <span style=\"color:#6a5acd\">Comparaisons: entiers et chaînes de caractères</span>\n",
    "\n",
    "* aller dans le directory du cours : `$ cd ./sk_cours_macs_prog_lang_c`\n",
    "* ouvrir le fichier `compare_int_and_strings.c`\n",
    "\n",
    "Répéter (si besoin est):\n",
    "* édition du fichier\n",
    "* compilation (naïve) : `$ make compare_int_and_strings.c` ou `$ gcc -o compare_int_and_strings compare_int_and_strings.c`\n",
    "* exécuter le code avec `$ ./compare_int_and_strings`\n",
    "\n"
   ]
  },
  {
   "cell_type": "markdown",
   "metadata": {
    "slideshow": {
     "slide_type": "slide"
    }
   },
   "source": [
    "```C\n",
    "/* code pour les comparaisons */\n",
    "\n",
    "\n",
    "```"
   ]
  },
  {
   "cell_type": "markdown",
   "metadata": {
    "slideshow": {
     "slide_type": "slide"
    }
   },
   "source": [
    "# <span style=\"color:#6a5acd\"> Quelques questions </span>\n",
    "\n",
    "La comparaison entre `int` et chaînes de caractères ne fonctionne pas de la même manière?"
   ]
  },
  {
   "cell_type": "markdown",
   "metadata": {
    "slideshow": {
     "slide_type": "slide"
    }
   },
   "source": [
    "# <span style=\"color:#6a5acd\">Comparaisons: les flottants</span>\n",
    "\n",
    "* aller dans le directory du cours : `$ cd ./sk_cours_macs_prog_lang_c`\n",
    "* ouvrir le fichier `float_precision.c`\n",
    "\n",
    "Répéter (si besoin est):\n",
    "* édition du fichier\n",
    "* compilation (naïve) : `$ make float_precision.c` ou `$ gcc -o float_precision float_precision.c`\n",
    "* exécuter le code avec `$ ./float_precision`\n",
    "\n"
   ]
  },
  {
   "cell_type": "markdown",
   "metadata": {
    "slideshow": {
     "slide_type": "slide"
    }
   },
   "source": [
    "```C\n",
    "/* code */\n",
    "\n",
    "\n",
    "```"
   ]
  },
  {
   "cell_type": "markdown",
   "metadata": {
    "slideshow": {
     "slide_type": "slide"
    }
   },
   "source": [
    "# <span style=\"color:#6a5acd\"> Quelques questions </span>\n",
    "* WTF!"
   ]
  }
 ],
 "metadata": {
  "celltoolbar": "Slideshow",
  "kernelspec": {
   "display_name": "Bash",
   "language": "bash",
   "name": "bash"
  },
  "language_info": {
   "codemirror_mode": "shell",
   "file_extension": ".sh",
   "mimetype": "text/x-sh",
   "name": "bash"
  }
 },
 "nbformat": 4,
 "nbformat_minor": 2
}
