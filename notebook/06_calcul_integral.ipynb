{
 "cells": [
  {
   "cell_type": "markdown",
   "metadata": {},
   "source": [
    "Soit $f:[a,b]\\mapsto f(x) \\in\\mathbb{R}$. On se propose de calculer une approximation de $I = \\int_a^b f(x)\\, \\text{d}x$"
   ]
  },
  {
   "cell_type": "markdown",
   "metadata": {},
   "source": [
    "## Méthode des rectangles\n",
    "\n",
    "Soit $N$ un entier. On note $x_i = a+i\\left(\\frac{b-a}{N}\\right)$, pour $0\\leq i \\leq N$. On a\n",
    "$$\n",
    "I_1 = \\sum_{i=0}^{i=N-1} (x_{i+1} - x_{i}) f(x_i).\n",
    "$$\n",
    "\n",
    "Ecrire un programme qui calcule $I_1$ pour: $a=0$, $b=2$, $f(x) = x^2$, $N=1000$.\n",
    "\n",
    "On prendra soin d'utiliser une fonction C pour définir $f$.\n",
    "\n",
    "## Tirage aléatoire\n",
    "\n",
    "Lire page manuel de la fonction C `random()`\n",
    "> `` man random``\n",
    "\n",
    "1. Ecrire une fonction C qui effectue le tirage aléatoire d'un double compris entre 0 et 1.\n",
    "2. Ecrire un programme qui calcule\n",
    "$$\n",
    "I_2 = \\frac{b-a}{N}\\sum_{k=0}^{N-1} f(\\theta_k),\n",
    "$$\n",
    "où $\\theta_k\\in[a,b]$ est un nombre aléatoire, $0\\leq k\\leq N-1$.\n",
    "\n",
    "On utilisera: $a=0$, $b=2$, $f(x) = x^2$, $N=10000$."
   ]
  },
  {
   "cell_type": "code",
   "execution_count": null,
   "metadata": {
    "collapsed": true
   },
   "outputs": [],
   "source": []
  }
 ],
 "metadata": {
  "kernelspec": {
   "display_name": "Bash",
   "language": "bash",
   "name": "bash"
  },
  "language_info": {
   "codemirror_mode": "shell",
   "file_extension": ".sh",
   "mimetype": "text/x-sh",
   "name": "bash"
  }
 },
 "nbformat": 4,
 "nbformat_minor": 0
}
