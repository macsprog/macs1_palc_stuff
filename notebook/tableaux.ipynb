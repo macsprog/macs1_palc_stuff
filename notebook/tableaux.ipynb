{
 "cells": [
  {
   "cell_type": "markdown",
   "metadata": {
    "slideshow": {
     "slide_type": "slide"
    }
   },
   "source": [
    "# Tableaux de flottants"
   ]
  },
  {
   "cell_type": "markdown",
   "metadata": {
    "slideshow": {
     "slide_type": "slide"
    }
   },
   "source": [
    "## Qu'est-ce qu'un tableau\n",
    "\n",
    "On se propose de programmer une biliothèque de gestion de tableaux dynamiques 2D et 1D.\n",
    "\n",
    "Un tableau devra:\n",
    "* contenir des éléments de type `double`\n",
    "* on pourra initialiser les éléments d'un tableau à zéro\n",
    "* le nombre d'éléments pourra être redimensionné:\n",
    "    * si on diminue sa taille, les derniers éléments seront tronqués\n",
    "    * si on augmente sa taille, les éléments supplémentaires seront mis à zéro\n",
    "* on pourra obtenir les dimensions d'un tableau\n",
    "* on pourra lire un élément d'un tableau\n",
    "* on pourra assigner la valeur d'un élément du tableau\n",
    "* afficher les éléments du tableau sur la sortie standard\n",
    "\n",
    "Pour les tableaux 1D on pourra:\n",
    "* calculer la norme $l^2$ du tableau\n",
    "* calculer la norme $l^\\infty$ du tableau\n",
    "* calculer le produit scalaire de deux tableaux\n",
    "\n",
    "On implémentera également un produit matrice-vecteur.\n",
    "\n",
    "On propose de définit un type `vec_t` et `matrix_t` ainsi que toutes ces opérations.\n"
   ]
  },
  {
   "cell_type": "markdown",
   "metadata": {
    "slideshow": {
     "slide_type": "slide"
    }
   },
   "source": [
    "## Instruction d'implémentation\n",
    "\n",
    "* on utilisera trois fichiers:\n",
    "    * array.h\n",
    "    * array_types.h\n",
    "    * array.c\n",
    "    \n",
    "* on créera une bibliothèque statique `libarray.a`\n"
   ]
  },
  {
   "cell_type": "markdown",
   "metadata": {
    "slideshow": {
     "slide_type": "slide"
    }
   },
   "source": [
    "## Résolution de systèmes linéaires: plus profonde descente\n",
    "\n",
    "$A$ : matrice carré symétrique définie positive de taille $N$.\n",
    "\n",
    "On utilise les notation suivantes: si $y\\in\\mathbb{R}^N$ est un vecteur colonne alors $y^T$ est le vecteur ligne transposé de $y$; la norme $\\|y\\|$ du vecteur $y$ est définie par\n",
    "$$\n",
    "\\|y\\| = \\sqrt{y^T y},\n",
    "$$\n",
    "et enfin $Ay$ est le vecteur de coordonnées\n",
    "$$\n",
    "(Ay)_i = \\sum_{j=0}^{N-1} A_{ij} y_j,\\quad 0\\leq i<N\n",
    ".\n",
    "$$\n",
    "\n",
    "\n",
    "L'algorithme à implémenter est le suivant: si $x_{(k)}\\in\\mathbb{R}^N$ est connu alors on définit $x_{(k+1)}$ par\n",
    "$$\n",
    "\\left\\{\n",
    "\\begin{aligned}\n",
    "r_{(k)} = b- A x_{(k)},\n",
    "\\\\\n",
    "\\alpha_{(k)} = \\frac{r_{(k)}^T r_{(k)}}{ r_{(k)}^T (A r_{(k)}) },\n",
    "\\\\\n",
    "x_{(k+1)} = x_{(k)} + \\alpha_{(k)}r_{(k)}.\n",
    "\\end{aligned}\n",
    "\\right.\n",
    "$$\n",
    "On calcule les termes $x_{(k)}$ jusqu'à ce que $\\|r_{(k)}\\| \\leq \\varepsilon$, où $\\varepsilon$ est une constante arbitraire positive indiquant la précision.\n"
   ]
  },
  {
   "cell_type": "markdown",
   "metadata": {
    "slideshow": {
     "slide_type": "slide"
    }
   },
   "source": [
    "On implémentera une fonction de prototype:\n",
    "\n",
    ">```\n",
    "> void SolveLinearSystem(\n",
    ">\n",
    ">            matrix_t* A,   /* matrix */\n",
    ">            vec_t* b,      /* right term of the system */\n",
    ">            vec_t* xStart, /* first iteration */\n",
    ">            double epsilon,       /* precision */\n",
    ">            vec_t* x             /* output value: stores the approximate solution */\n",
    ">            );\n",
    ">```\n"
   ]
  },
  {
   "cell_type": "code",
   "execution_count": null,
   "metadata": {},
   "outputs": [],
   "source": []
  }
 ],
 "metadata": {
  "celltoolbar": "Slideshow",
  "kernelspec": {
   "display_name": "Python 3",
   "language": "python",
   "name": "python3"
  },
  "language_info": {
   "codemirror_mode": {
    "name": "ipython",
    "version": 3
   },
   "file_extension": ".py",
   "mimetype": "text/x-python",
   "name": "python",
   "nbconvert_exporter": "python",
   "pygments_lexer": "ipython3",
   "version": "3.6.8"
  }
 },
 "nbformat": 4,
 "nbformat_minor": 1
}
