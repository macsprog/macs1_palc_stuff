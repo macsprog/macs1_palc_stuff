{
 "cells": [
  {
   "cell_type": "markdown",
   "metadata": {
    "slideshow": {
     "slide_type": "slide"
    }
   },
   "source": [
    "# Pourquoi revenir sur toutes ces notions?"
   ]
  },
  {
   "cell_type": "markdown",
   "metadata": {
    "slideshow": {
     "slide_type": "fragment"
    }
   },
   "source": [
    "le langage C peut sembler un peu bizarre..."
   ]
  },
  {
   "cell_type": "markdown",
   "metadata": {
    "slideshow": {
     "slide_type": "slide"
    }
   },
   "source": [
    "# Echauffement et compilation..."
   ]
  },
  {
   "cell_type": "markdown",
   "metadata": {
    "slideshow": {
     "slide_type": "slide"
    }
   },
   "source": [
    "ouvrir un terminal"
   ]
  },
  {
   "cell_type": "code",
   "execution_count": 5,
   "metadata": {
    "slideshow": {
     "slide_type": "fragment"
    }
   },
   "outputs": [],
   "source": [
    "# aller dans son \"home directory\" (Change Directory)\n",
    "cd ~"
   ]
  },
  {
   "cell_type": "code",
   "execution_count": null,
   "metadata": {
    "slideshow": {
     "slide_type": "fragment"
    }
   },
   "outputs": [],
   "source": [
    "# où se trouve-t-on? (Print Workind Directory)\n",
    "pwd"
   ]
  },
  {
   "cell_type": "code",
   "execution_count": 1,
   "metadata": {
    "slideshow": {
     "slide_type": "fragment"
    }
   },
   "outputs": [],
   "source": [
    "# créer un repertoire de travail pour le cours appelé\n",
    "# \"\n",
    "mkdir palc"
   ]
  },
  {
   "cell_type": "code",
   "execution_count": null,
   "metadata": {
    "slideshow": {
     "slide_type": "slide"
    }
   },
   "outputs": [],
   "source": [
    "# \"aller\" dans le repértoire \"sk_cours_macs_prog_lang_c\"\n",
    "cd palc"
   ]
  },
  {
   "cell_type": "code",
   "execution_count": null,
   "metadata": {
    "slideshow": {
     "slide_type": "fragment"
    }
   },
   "outputs": [],
   "source": [
    "# on vérifie avec pwd\n",
    "pwd"
   ]
  },
  {
   "cell_type": "code",
   "execution_count": 4,
   "metadata": {
    "slideshow": {
     "slide_type": "slide"
    }
   },
   "outputs": [],
   "source": [
    "# on crée un nouveau sous-répertoire\n",
    "mkdir hello_macs\n",
    "\n",
    "# puis on \"va\" dans ce répertoire\n",
    "cd hello_macs"
   ]
  },
  {
   "cell_type": "code",
   "execution_count": null,
   "metadata": {
    "slideshow": {
     "slide_type": "slide"
    }
   },
   "outputs": [],
   "source": [
    "# on lance son éditeur favori\n",
    "codeblocks\n",
    "\n",
    "# ou \n",
    "code"
   ]
  },
  {
   "cell_type": "markdown",
   "metadata": {
    "slideshow": {
     "slide_type": "slide"
    }
   },
   "source": [
    "* Créer un nouveau fichier\n",
    "\n",
    "* Le sauver en le nommant `macs.c`"
   ]
  },
  {
   "cell_type": "markdown",
   "metadata": {
    "slideshow": {
     "slide_type": "fragment"
    }
   },
   "source": [
    "Ecrivons un premier code"
   ]
  },
  {
   "cell_type": "markdown",
   "metadata": {
    "slideshow": {
     "slide_type": "slide"
    }
   },
   "source": [
    "Comment transformer le fichier `macs.c` en quelque chose que l'ordinateur peut exécuter?\n",
    "\n"
   ]
  },
  {
   "cell_type": "markdown",
   "metadata": {
    "slideshow": {
     "slide_type": "slide"
    }
   },
   "source": [
    "<center><img src=\"pics/compiling_process.png\" width=1500 /></center>"
   ]
  },
  {
   "cell_type": "markdown",
   "metadata": {
    "slideshow": {
     "slide_type": "fragment"
    }
   },
   "source": [
    "## Outil: compilateur"
   ]
  },
  {
   "cell_type": "markdown",
   "metadata": {
    "slideshow": {
     "slide_type": "slide"
    }
   },
   "source": [
    "# Première utilisation du compilateur"
   ]
  },
  {
   "cell_type": "markdown",
   "metadata": {
    "slideshow": {
     "slide_type": "fragment"
    }
   },
   "source": [
    "`$ gcc macs.c`\n",
    "> crée un fichier exécutable `a.out`"
   ]
  },
  {
   "cell_type": "markdown",
   "metadata": {
    "slideshow": {
     "slide_type": "fragment"
    }
   },
   "source": [
    "let's look at the manual of gcc\n",
    "> `man gcc`"
   ]
  },
  {
   "cell_type": "markdown",
   "metadata": {
    "slideshow": {
     "slide_type": "slide"
    }
   },
   "source": [
    "`$ gcc -o macs.exe macs.c`\n",
    "> crée un fichier exécutable `macs.exe`"
   ]
  },
  {
   "cell_type": "markdown",
   "metadata": {
    "slideshow": {
     "slide_type": "slide"
    }
   },
   "source": [
    "# GNU Make\n",
    "\n",
    "Robot qui automatise la compilation\n",
    "\n",
    "On va simplifier la compilation\n",
    "\n",
    "Objectif:\n",
    "\n",
    "`$ make`\n",
    "> crée un fichier exécutable `macs.exe` (à partir du fichier `macs.c`)\n",
    "\n",
    "(utilisation *très* naïve de `make`)\n"
   ]
  },
  {
   "cell_type": "markdown",
   "metadata": {
    "slideshow": {
     "slide_type": "slide"
    }
   },
   "source": [
    "* On crée une sorte de fichier \"pense-bête\": `makefile` \n",
    "(ou `Makefile`)\n",
    " dans lequel on va écrire ce que l'on fait\n",
    "* Le robot `make` utilisera ce fichier pour refaire ces actions (il peut faire beaucoup plus)\n"
   ]
  },
  {
   "cell_type": "markdown",
   "metadata": {
    "slideshow": {
     "slide_type": "slide"
    }
   },
   "source": [
    "## Format du fichier makefile\n",
    "\n",
    "> `ce_que_je_veux_faire: avec_quoi`\n",
    "\n",
    "> `<tab> comment_le_faire`"
   ]
  },
  {
   "cell_type": "markdown",
   "metadata": {
    "slideshow": {
     "slide_type": "fragment"
    }
   },
   "source": [
    "\n",
    "> `macs.exe: macs.c`\n",
    "\n",
    "> `<tab> gcc -o macs.exe macs.c`"
   ]
  },
  {
   "cell_type": "markdown",
   "metadata": {
    "slideshow": {
     "slide_type": "slide"
    }
   },
   "source": [
    "\n",
    "> `macs.exe: macs.c`\n",
    "\n",
    "> `<tab> gcc -o macs.exe macs.c`\n",
    "\n",
    "## Pourquoi?\n",
    "\n",
    "On recompile seulement si nécessaire (utile si on a beaucoup de fichiers)"
   ]
  },
  {
   "cell_type": "markdown",
   "metadata": {
    "slideshow": {
     "slide_type": "slide"
    }
   },
   "source": [
    "Quelques remarque\n",
    "* nom par défaut du fichier de configuration de `make`: `makefile` ou `Makefile`\n",
    "* n'importe quel autre nom est possible: `make -f  mon_fichier_de_config_pour_make`"
   ]
  },
  {
   "cell_type": "markdown",
   "metadata": {
    "slideshow": {
     "slide_type": "slide"
    }
   },
   "source": [
    "# Récapitulatif (création d'un nouveau fichier et compilation du fichier)\n",
    "\n",
    "* aller dans le directory du cours : `$ cd ~/palc`\n",
    "* ouverture de l'éditeur (ici codeblocks) : `$ codeblocks`\n",
    "     * création d'un nouveau fichier `foo.c`\n",
    "     * sauvegarde dans le \"bon directory\"\n",
    "     * création du fichier `makefile`\n",
    "\n",
    "Répéter:\n",
    "* édition du fichier\n",
    "* compilation : `$ make`\n"
   ]
  },
  {
   "cell_type": "markdown",
   "metadata": {
    "slideshow": {
     "slide_type": "slide"
    }
   },
   "source": [
    "# ATTENTION\n",
    "\n",
    "L'utilisation de `make` et `gcc` décrite ici est très naïve...\n"
   ]
  },
  {
   "cell_type": "markdown",
   "metadata": {},
   "source": [
    "# Quelques questions\n",
    "* pourquoi doit-on écrire ce `int main(void)` ?\n",
    "* qu'est-ce que ce `#include<stdlib.h>` ?\n",
    "* qu'est-ce que ce `#include<stdio.h>` ?"
   ]
  }
 ],
 "metadata": {
  "celltoolbar": "Slideshow",
  "kernelspec": {
   "display_name": "Bash",
   "language": "bash",
   "name": "bash"
  },
  "language_info": {
   "codemirror_mode": "shell",
   "file_extension": ".sh",
   "mimetype": "text/x-sh",
   "name": "bash"
  }
 },
 "nbformat": 4,
 "nbformat_minor": 2
}
