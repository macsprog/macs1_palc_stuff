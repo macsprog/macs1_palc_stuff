{
 "cells": [
  {
   "cell_type": "markdown",
   "metadata": {
    "slideshow": {
     "slide_type": "slide"
    }
   },
   "source": [
    "# Utilisation du debugger `gdb` pour examiner le programme"
   ]
  },
  {
   "cell_type": "markdown",
   "metadata": {
    "slideshow": {
     "slide_type": "slide"
    }
   },
   "source": [
    "## C'est quoi un debugger?"
   ]
  },
  {
   "cell_type": "markdown",
   "metadata": {
    "slideshow": {
     "slide_type": "subslide"
    }
   },
   "source": [
    "Le debugger permet de:\n",
    "\n",
    "* Piloter l'exécution pas à pas:\n",
    "    * arrêter l'exécution à une ligne donnée des sources du code\n",
    "    * exécuter le programme ligne à ligne ou instruction par instruction\n",
    "* Examiner la mémoire:\n",
    "    * accéder à la valeur de chaque variable\n",
    "    *accéder à des \"morceaux de mémoire\" d'une taille donnée et démarrant à une adresse donnée\n"
   ]
  },
  {
   "cell_type": "markdown",
   "metadata": {
    "slideshow": {
     "slide_type": "subslide"
    }
   },
   "source": [
    "De très nombreuses fonctionnalités sont disponibles, mais pour le moment nous nous contentons de celles-ci..."
   ]
  },
  {
   "cell_type": "markdown",
   "metadata": {
    "slideshow": {
     "slide_type": "slide"
    }
   },
   "source": [
    "\n",
    "# Préparation du code pour l'utilisation de gdb\n",
    "\n",
    "L'utilisation du debugger nécessite une compilation particulière. Dans le cas de `gcc`, les objets binaires doivent être généré en utilisant l'option `-g`."
   ]
  },
  {
   "cell_type": "markdown",
   "metadata": {
    "slideshow": {
     "slide_type": "slide"
    }
   },
   "source": [
    "Dans le shell\n",
    "\n",
    "`$ gcc -g -Wall -o factorial.exe factorial.c`"
   ]
  },
  {
   "cell_type": "markdown",
   "metadata": {
    "slideshow": {
     "slide_type": "fragment"
    }
   },
   "source": [
    "ou\n",
    "\n",
    "`$ make CFLAGS=\"-g -Wall\" factorial`"
   ]
  },
  {
   "cell_type": "markdown",
   "metadata": {
    "slideshow": {
     "slide_type": "slide"
    }
   },
   "source": [
    "## Lancement du debugger `gdb`\n",
    "\n",
    "Ici on lance dans la console\n",
    "\n",
    "`$ gdb ./factorial.exe`\n",
    "\n",
    "mode `tui` (text user interface)\n",
    "\n",
    "`$ gdb -tui ./factorial.exe`"
   ]
  },
  {
   "cell_type": "markdown",
   "metadata": {
    "collapsed": true,
    "slideshow": {
     "slide_type": "slide"
    }
   },
   "source": [
    "## De manière plus générale\n",
    "\n",
    "Pour lancer le pilotage de l'application par le `gdb` on utilise la syntaxe suivante\n",
    "> `gdb --args the_app app_arg1 app_arg2 ...`\n",
    "\n",
    "où `the_app` est le chemin vers l'application à exécuter/débugger et `app_arg1`, `app_arg2`,... sont \n",
    "les arguments que l'on passe à l'application pour s'exécuter correctement. "
   ]
  },
  {
   "cell_type": "markdown",
   "metadata": {
    "slideshow": {
     "slide_type": "slide"
    }
   },
   "source": [
    "# Pilotage du code sous gdb\n",
    "\n",
    "L'utilisation de gdb s'apparente à une sorte de shell qui dont les commandes permettent de piloter le code et examiner la mémoire.\n",
    "\n",
    "Chaque commande peut-être utilisée sous forme abrégée afin de ne pas alourdir l'utilisation de gdb."
   ]
  },
  {
   "cell_type": "markdown",
   "metadata": {
    "slideshow": {
     "slide_type": "slide"
    }
   },
   "source": [
    "\n",
    "commande | abbréviation | description\n",
    "--------|--------------|--------------\n",
    "run | r | démarre le programme jusqu'à la fin ou un breakoint\n",
    "start | sta | démarre le programme et stop au début de  `main()`\n",
    "list | l | affiche le code source\n",
    "print | p | affiche la valeur d'une expression\n",
    "dsplay | disp | affiche à chaque arrêt la varleur d'une expression\n",
    "break | b | poser un point d'arrêt (breakpoint)\n",
    "next | n | continue jusqu'à la ligne suivante du bloc\n",
    "step | s | continue jusqu'à l'instruction suivante\n",
    "continue | c | continue jusqu'au prochain breakpoint ou jusqu'à la fin\n",
    "finish | fin\n"
   ]
  },
  {
   "cell_type": "markdown",
   "metadata": {
    "slideshow": {
     "slide_type": "slide"
    }
   },
   "source": [
    "## Pilotage du code sous `gdb` En détail\n",
    "\n",
    "L'utilisation de `gdb` s'apparente à une sorte de shell qui dont les commandes permettent de piloter le code et examiner la mémoire. Chaque commande peut-être utilisée sous forme abrégée afin de ne pas alourdir l'utilisation de `gdb`.\n",
    "\n",
    "### Démarrage de l'exécution: `run`\n",
    "On utilise la commande `run` pour exécuter le code (jusqu'à la fin, ou jusqu'à un plantage)\n",
    "> `(gdb) run`"
   ]
  },
  {
   "cell_type": "markdown",
   "metadata": {},
   "source": [
    "Si on veut modifier les arguments de lancement du code, on peut le faire directement avec `run`\n",
    "> `(gdb) run 3.45`\n",
    "\n",
    "(cas où le programme prend un argument)"
   ]
  },
  {
   "cell_type": "markdown",
   "metadata": {
    "slideshow": {
     "slide_type": "slide"
    }
   },
   "source": [
    "### Démarrage de l'exécution et pauser à l'entrée de la fonction `main()`\n",
    "On utilise la commande `start` pour exécuter le code et *mettre le code en pause* immédiatement au début de l'exécution juste au démarrage de l'exécution de la fonction `main()`\n",
    "> `(gdb) start`\n"
   ]
  },
  {
   "cell_type": "markdown",
   "metadata": {
    "slideshow": {
     "slide_type": "slide"
    }
   },
   "source": [
    "\n",
    "Idem avec modification/spécification d'arguments\n",
    "> `(gdb) start 3.45`"
   ]
  },
  {
   "cell_type": "markdown",
   "metadata": {
    "slideshow": {
     "slide_type": "slide"
    }
   },
   "source": [
    "### Obtenir de l'aide\n",
    "Le debugger `gdb` est muni d'une grande documentation accessible directement depuis la ligne de commande via la commande `help`.\n",
    "\n",
    "> `(gdb) help`\n",
    "\n",
    "Pour obtenir de l'aide sur une commande particulière\n",
    "> `(gdb) help  start`"
   ]
  },
  {
   "cell_type": "markdown",
   "metadata": {
    "slideshow": {
     "slide_type": "slide"
    }
   },
   "source": [
    "## Exécution pas à pas\n",
    "\n",
    "### Commande `next`\n",
    "Lorsque le programme est en pause, pour faire exécuter la ligne de code suivante puis revenir en pause, on utilise la commande `next` de `gdb`.\n",
    "\n",
    "> `(gdb) next`"
   ]
  },
  {
   "cell_type": "markdown",
   "metadata": {
    "slideshow": {
     "slide_type": "slide"
    }
   },
   "source": [
    "### Commande `step`\n",
    "Lorsque le programme est en pause, pour faire exécuter l'instruction suivante puis revenir en pause, on utilise la commande `step` de `gdb`. A la différence de `next`, la commande `step` \"descend\" à l'intérieur des fonctions (\"step into\").\n",
    "\n",
    "> `(gdb) step`"
   ]
  },
  {
   "cell_type": "markdown",
   "metadata": {
    "slideshow": {
     "slide_type": "slide"
    }
   },
   "source": [
    "## Affichage du code pendant le debuggage\n",
    "Une difficulté pour la prise en main de `gdb` réside dans le fait que se repérer à l'intérieur du code pendant son exécution demande un peu d'expérience. La commande qui permet d'afficher le code en cours de débuggage est la commande `list`. Elle peut être utilisé de plusieurs manière:\n",
    "* `list`: affiche 10 lignes à partir de la ligne en cours d'exécution ou poursuit l'affichage à partir de la dernière ligne affichée par un appel de `list`\n",
    "* `list -`: affiche les lignes précédents les dernières lignes affichées\n",
    "* `list [LINE]`: affiche les lignes centrées autour de la ligne `[LINE]` du fichier *.c en cours d'inspection\n",
    "* `list [FUNCTION]`: affiche les lignes centrées autour du début du code source de la fonction `[FUNCTION]`"
   ]
  },
  {
   "cell_type": "markdown",
   "metadata": {
    "slideshow": {
     "slide_type": "slide"
    }
   },
   "source": [
    "\n",
    "> `(gdb) list`\n",
    "\n",
    "> `(gdb) list - `\n",
    "\n",
    "> `(gdb) list 34`\n",
    "\n",
    "> `(gdb) list ComputeDelta`\n"
   ]
  },
  {
   "cell_type": "markdown",
   "metadata": {
    "slideshow": {
     "slide_type": "slide"
    }
   },
   "source": [
    "## Affichage de la valeur des variables et d'expressions\n",
    "Le debugger est un outil particulièrement efficace pour suivre l'état des variables pendant l'exécution du code.\n",
    "\n",
    "La commande `print` permet d'afficher des expressions et donc en particulier la valeur des variables. si `[EXP]` est une expression alors on utilise\n",
    "\n",
    "> `(gdb) print [EXP]`\n",
    "\n",
    "Par exemple si `a` et `x` sont deux variables accessibles au contexte d'exécution, c'est-à-dire définie pour le bloc de code que l'on est en train d'exécuter, alors on peut utiliser `print` comme suit:"
   ]
  },
  {
   "cell_type": "markdown",
   "metadata": {
    "slideshow": {
     "slide_type": "slide"
    }
   },
   "source": [
    "> ``(gdb) print x\n",
    "> (gdb) print a\n",
    "> (gdb) print a*x\n",
    "> (gdb) print (a < x)``"
   ]
  },
  {
   "cell_type": "markdown",
   "metadata": {
    "slideshow": {
     "slide_type": "slide"
    }
   },
   "source": [
    "La commande `display` permet d'afficher une expression [EXP] à chaque pause de l'exécution.\n",
    "> `` display [EXP] ``\n"
   ]
  },
  {
   "cell_type": "markdown",
   "metadata": {
    "slideshow": {
     "slide_type": "slide"
    }
   },
   "source": [
    "Par exemple\n",
    "\n",
    "> ``(gdb) display x\n",
    "> (gdb) display a\n",
    "> (gdb) display a*x\n",
    "> (gdb) display (a < x)``"
   ]
  },
  {
   "cell_type": "markdown",
   "metadata": {
    "slideshow": {
     "slide_type": "slide"
    }
   },
   "source": [
    "\n",
    "\n",
    "## Modification de la valeur d'une variable\n",
    "Il est possible de modifier la valeur d'une variable en cours d'exécution dans `gdb`. On utilise la commande `set`\n",
    "\n",
    "> ``set [VAR] = [EXPR]``\n",
    "\n",
    "Par exemple\n",
    "\n",
    "> `` set a = 1 ``"
   ]
  },
  {
   "cell_type": "markdown",
   "metadata": {
    "slideshow": {
     "slide_type": "slide"
    }
   },
   "source": [
    "\n",
    "\n",
    "## Point d'arrêts: insérer des pauses dans l'exécution du programme\n",
    "Grâce à gdb on peut arrêter l'exécution du programme à des points d'arrêt (\"breakpoints\").\n",
    "\n",
    "Ces points d'arrêts sont indiqués à `gdb` grâce à la commande `break`.\n",
    "\n",
    "On peut utiliser la commande `break` de plusieurs manières différentes.\n"
   ]
  },
  {
   "cell_type": "markdown",
   "metadata": {
    "slideshow": {
     "slide_type": "slide"
    }
   },
   "source": [
    "* `break` : breakpoint à la ligne de code courante\n",
    "\n",
    "* `break [LINE]` : breakpoint à la ligne `[LINE]` du fichier *.c en cours\n",
    "d’exécution.\n",
    "\n",
    "* `break [FILE.c:LINE]` : breakpoint à la ligne `[LINE]` du fichier\n",
    "FILE.c\n",
    "\n",
    "* `break [FUNCTION]` : breakpoint à l’entrée de la fonction\n",
    "`[FUNCTION]` du fichier *.c en cours d’exécution\n",
    "\n",
    "* `break [FILE.c:FUNCTION]` : breakpoint à l’entrée de la fonction\n",
    "`[FUNCTION]` du fichier `FILE.c`"
   ]
  },
  {
   "cell_type": "markdown",
   "metadata": {
    "collapsed": true,
    "slideshow": {
     "slide_type": "slide"
    }
   },
   "source": [
    "## Reprise de l'exécution d'un programme en pause\n",
    "Deux commandes `gdb` permettent de reprendre l'exécution d'un programme après une pause.\n",
    "\n",
    "* `continue`: la commande `continue` reprend l’exécution du programme.\n",
    "* `finish`:  continue l’exécution du programme jusqu’à la fin de la fonction courante,\n",
    "et affiche la valeur de retour de la fonction."
   ]
  }
 ],
 "metadata": {
  "celltoolbar": "Slideshow",
  "kernelspec": {
   "display_name": "Python 3",
   "language": "python",
   "name": "python3"
  },
  "language_info": {
   "codemirror_mode": {
    "name": "ipython",
    "version": 3
   },
   "file_extension": ".py",
   "mimetype": "text/x-python",
   "name": "python",
   "nbconvert_exporter": "python",
   "pygments_lexer": "ipython3",
   "version": "3.6.8"
  }
 },
 "nbformat": 4,
 "nbformat_minor": 1
}
