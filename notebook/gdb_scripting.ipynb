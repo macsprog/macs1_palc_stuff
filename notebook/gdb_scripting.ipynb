{
 "cells": [
  {
   "cell_type": "markdown",
   "metadata": {
    "slideshow": {
     "slide_type": "slide"
    }
   },
   "source": [
    "# Utilisation non-interactive de `gdb`: scripts "
   ]
  },
  {
   "cell_type": "markdown",
   "metadata": {
    "slideshow": {
     "slide_type": "slide"
    }
   },
   "source": [
    "On a vu la possibilité d'exécuter des programmes via `gdb` de manière interactive\n",
    "\n",
    "> gdb ./mon_programme.exe\n",
    "\n",
    "nous fait entrer dans la console `gdb` qui permet de piloter le programme ligne à ligne"
   ]
  },
  {
   "cell_type": "markdown",
   "metadata": {
    "slideshow": {
     "slide_type": "slide"
    }
   },
   "source": [
    "Pendant un débogage: il est courant de relancer plusieurs fois le programme.\n",
    "\n",
    "=> répéter plusieurs fois les mêmes (ou presque) commandes `gdb`\n",
    "\n",
    "=> utilisation interactive `gdb` peut devenir fastidieuse "
   ]
  },
  {
   "cell_type": "markdown",
   "metadata": {
    "slideshow": {
     "slide_type": "slide"
    }
   },
   "source": [
    "Heureusement, il est possible d'automatiser l'utilisation de `gdb`\n",
    "* réunir un ensemble de commandes `gdb` dans un simple fichier texte\n",
    "* lancer gdb en lui demandant d'exécuter les commandes du fichier texte"
   ]
  },
  {
   "cell_type": "markdown",
   "metadata": {
    "slideshow": {
     "slide_type": "slide"
    }
   },
   "source": [
    "Exemple de \"script\" `gdb`: on crée un fichier `run.gdb`\n",
    "\n",
    "Contenu de `run.gdb`:\n",
    "\n",
    "> ```\n",
    "> # nom du programme a deboguer\n",
    "> file bugged_code.exe\n",
    ">\n",
    "> # on place un breakpoint\n",
    "> break main.c:28\n",
    "> \n",
    "> # on demarre le programme (qui s'arretera au passage du breakpoint)\n",
    "> run\n",
    "> ```\n",
    " \n",
    " lancement dans le shell\n",
    " \n",
    " `$ gdb -x ./run.gdb `\n",
    "\n",
    "ou \n",
    "\n",
    "`$ gdb -tui -x ./run.gdb `\n",
    " \n",
    " "
   ]
  },
  {
   "cell_type": "markdown",
   "metadata": {
    "slideshow": {
     "slide_type": "slide"
    }
   },
   "source": [
    "## Association de commandes avec un breakpoint\n",
    "\n",
    "Supposons qu'on le code suivant à `main.c:86`\n",
    "\n",
    "> `i = x + compute_stuff(x);`\n",
    "\n",
    "On veut exécuter en affichant la valeur de x à chaque fois qu'on exécute la ligne `main.c:86`\n",
    "\n",
    "* stratégie 1: `printf()`-debugging !\n",
    "* stratégie 2: `gdb`!\n"
   ]
  },
  {
   "cell_type": "markdown",
   "metadata": {
    "slideshow": {
     "slide_type": "slide"
    }
   },
   "source": [
    "`main.c:86`\n",
    "\n",
    "> `i = x + compute_stuff(x);`\n",
    "\n",
    "\n",
    "\n",
    "fichier `run.gdb`:\n",
    "\n",
    "> ```\n",
    "> file bugged_code.exe\n",
    ">\n",
    "> break main.c:86\n",
    "> commands\n",
    ">     print x\n",
    ">     continue\n",
    "> end\n",
    "> \n",
    "> run\n",
    "> ```\n",
    "\n",
    "\n",
    "lancement dans le shell avec\n",
    "`$ gdb -tui -x ./run.gdb `\n"
   ]
  },
  {
   "cell_type": "markdown",
   "metadata": {
    "slideshow": {
     "slide_type": "slide"
    }
   },
   "source": [
    "Variante en rendant `gdb` moins verbeux\n",
    "\n",
    "\n",
    "fichier `run.gdb`:\n",
    "\n",
    "> ```\n",
    "> file bugged_code.exe\n",
    ">\n",
    "> break main.c:86\n",
    "> commands\n",
    ">     silent\n",
    ">     print x\n",
    ">     continue\n",
    "> end\n",
    "> \n",
    "> run\n",
    "> ```\n",
    "\n",
    "\n",
    "lancement dans le shell avec\n",
    "`$ gdb -tui -x ./run.gdb `\n"
   ]
  },
  {
   "cell_type": "markdown",
   "metadata": {
    "slideshow": {
     "slide_type": "slide"
    }
   },
   "source": [
    "* adieu `printf()` de debuggage:\n",
    "    * pollution des codes\n",
    "    * recompilation à chaque nouveau `printf()`\n",
    "* les scripts `gdb` sont facilement \n",
    "    * partageables\n",
    "    * archivables (au lieu d'archiver des `printf()` de débuggage commentés)\n"
   ]
  },
  {
   "cell_type": "markdown",
   "metadata": {
    "slideshow": {
     "slide_type": "slide"
    }
   },
   "source": [
    "#  Commande `printf` dans `gdb`\n",
    "\n",
    "si `printf()` vous manque vraiment, il existe une commande `printf` dans `gdb`. La syntaxe rappelle un peu celle de `printf()` dans le langage C.\n",
    "\n",
    "exemple:\n",
    "> ```\n",
    "> printf \"%lf\",x\n",
    "> printf \"%lf %d\",y, i\n",
    "> ```\n"
   ]
  }
 ],
 "metadata": {
  "celltoolbar": "Slideshow",
  "kernelspec": {
   "display_name": "Python 3",
   "language": "python",
   "name": "python3"
  },
  "language_info": {
   "codemirror_mode": {
    "name": "ipython",
    "version": 3
   },
   "file_extension": ".py",
   "mimetype": "text/x-python",
   "name": "python",
   "nbconvert_exporter": "python",
   "pygments_lexer": "ipython3",
   "version": "3.6.8"
  }
 },
 "nbformat": 4,
 "nbformat_minor": 1
}
