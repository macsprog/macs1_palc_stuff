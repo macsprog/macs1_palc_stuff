{
 "cells": [
  {
   "cell_type": "markdown",
   "metadata": {
    "slideshow": {
     "slide_type": "slide"
    }
   },
   "source": [
    "# Enlist!!\n",
    "\n",
    "allez-ici!\n",
    "\n",
    "[https://tinyurl.com/palc2019](https://tinyurl.com/palc2019)"
   ]
  },
  {
   "cell_type": "markdown",
   "metadata": {
    "slideshow": {
     "slide_type": "slide"
    }
   },
   "source": [
    "# Programmation avancée en langage C pour le calcul scientifique\n",
    "\n",
    "\n",
    "\n",
    "samuel.kokh@cea.fr"
   ]
  },
  {
   "cell_type": "markdown",
   "metadata": {
    "slideshow": {
     "slide_type": "slide"
    }
   },
   "source": [
    "# C'est qui le prof?\n",
    "\n",
    "\n",
    "<img src=\"./pics/tommy_lee_jones.gif\"  width = \"500\">"
   ]
  },
  {
   "cell_type": "markdown",
   "metadata": {
    "slideshow": {
     "slide_type": "slide"
    }
   },
   "source": [
    "Samuel KOKH\n",
    "\n",
    "Chercheur/ingénieur en mathématiques appliquées\n",
    "\n",
    "CEA (centre de Saclay)\n",
    "\n",
    "```samuel.kokh@cea.fr```"
   ]
  },
  {
   "cell_type": "markdown",
   "metadata": {
    "slideshow": {
     "slide_type": "slide"
    }
   },
   "source": [
    "# Un slack\n",
    "\n",
    "\n",
    "[https://macs1palc.slack.com](https://macs1palc.slack.com)\n",
    "\n",
    "* pour me contacter\n",
    "* pour discuter entre vous\n",
    "* pour échanger du matériel pédagogique\n",
    "* etc."
   ]
  },
  {
   "cell_type": "markdown",
   "metadata": {
    "slideshow": {
     "slide_type": "slide"
    }
   },
   "source": [
    "# Objectifs du cours\n",
    "\n",
    "\n",
    "    \n"
   ]
  },
  {
   "cell_type": "markdown",
   "metadata": {
    "slideshow": {
     "slide_type": "subslide"
    }
   },
   "source": [
    "## Revenir sur les notions de base du langage C\n",
    "* regarder \"sous le capot\"\n",
    "* mieux comprendre les \"dangers\" du langage C\n",
    "* pointeurs\n",
    "* allocation dynamique"
   ]
  },
  {
   "cell_type": "markdown",
   "metadata": {
    "slideshow": {
     "slide_type": "subslide"
    }
   },
   "source": [
    "## Programmation en pratique\n",
    "* \"bonnes pratiques\" (compilation séparée, debuggage,...)\n",
    "* méthodologie \"de pratique\"\n",
    "* programmation \"abstraite\""
   ]
  },
  {
   "cell_type": "markdown",
   "metadata": {
    "slideshow": {
     "slide_type": "subslide"
    }
   },
   "source": [
    "Comprendre facilement quelque chose comme...\n",
    "\n",
    "\n",
    "```C\n",
    "#include<stddlib.h>\n",
    "#define SIZE\n",
    "\n",
    "struct foo_t {\n",
    "    int x;\n",
    "    char* name;\n",
    "}; \n",
    "\n",
    "struct foo_t * array = malloc(SIZE*sizeof(struct foo_t));\n",
    "int * ptr = & (array[2].x);\n",
    "```"
   ]
  },
  {
   "cell_type": "markdown",
   "metadata": {
    "slideshow": {
     "slide_type": "slide"
    }
   },
   "source": [
    "# Outils\n",
    "\n",
    "(à utiliser ou installer)\n"
   ]
  },
  {
   "cell_type": "markdown",
   "metadata": {
    "slideshow": {
     "slide_type": "subslide"
    }
   },
   "source": [
    "# Environnement\n",
    "\n",
    "* Linux\n",
    "* bash (console)"
   ]
  },
  {
   "cell_type": "markdown",
   "metadata": {
    "slideshow": {
     "slide_type": "subslide"
    }
   },
   "source": [
    "## Editeur de texte\n",
    "* codeblocks (IDE)\n",
    "* codelite (IDE)\n",
    "* eclipse (IDE)\n",
    "* emacs\n",
    "* vi/vim\n",
    "* netbeans (IDE)\n",
    "* visual code studio"
   ]
  },
  {
   "cell_type": "markdown",
   "metadata": {
    "slideshow": {
     "slide_type": "subslide"
    }
   },
   "source": [
    "## Compilateur\n",
    "\n",
    "* gcc\n",
    "* clang"
   ]
  },
  {
   "cell_type": "markdown",
   "metadata": {
    "slideshow": {
     "slide_type": "subslide"
    }
   },
   "source": [
    "## Debugger\n",
    "\n",
    "* gdb\n",
    "* cdtdebug (debugger d'eclipse)"
   ]
  },
  {
   "cell_type": "markdown",
   "metadata": {
    "slideshow": {
     "slide_type": "subslide"
    }
   },
   "source": [
    "# IDE en ligne\n",
    "\n",
    "\n",
    "Editeur + Compilateur + Debugger\n",
    "\n",
    "* https://codeanywhere.com/\n",
    "* http://c9.io/ (maintenant intégré à Amazon Web Services)"
   ]
  },
  {
   "cell_type": "markdown",
   "metadata": {},
   "source": [
    "# Quelques liens utiles\n",
    "\n",
    "\n",
    "http://www.gdbtutorial.com/\n",
    "\n",
    "http://fr.cppreference.com/w/c ou http://en.cppreference.com/w/c\n",
    "\n",
    "[c refcard](../doc/c-refcard.pdf)\n",
    "\n",
    "[cours de Philippe d'Anfray](../doc/poly_c_Ph_Anfray.pdf)\n",
    "\n"
   ]
  },
  {
   "cell_type": "markdown",
   "metadata": {
    "slideshow": {
     "slide_type": "slide"
    }
   },
   "source": [
    "# Avant de commencer..."
   ]
  },
  {
   "cell_type": "markdown",
   "metadata": {
    "slideshow": {
     "slide_type": "subslide"
    }
   },
   "source": [
    "## Qui connait quoi?"
   ]
  },
  {
   "cell_type": "markdown",
   "metadata": {
    "slideshow": {
     "slide_type": "fragment"
    }
   },
   "source": [
    "chaînes de caractères (string)"
   ]
  },
  {
   "cell_type": "markdown",
   "metadata": {
    "slideshow": {
     "slide_type": "fragment"
    }
   },
   "source": [
    "`struct`"
   ]
  },
  {
   "cell_type": "markdown",
   "metadata": {
    "slideshow": {
     "slide_type": "fragment"
    }
   },
   "source": [
    "pointeurs"
   ]
  },
  {
   "cell_type": "markdown",
   "metadata": {
    "slideshow": {
     "slide_type": "fragment"
    }
   },
   "source": [
    "`malloc()` / `free()`"
   ]
  },
  {
   "cell_type": "markdown",
   "metadata": {
    "slideshow": {
     "slide_type": "fragment"
    }
   },
   "source": [
    "programmation multi-fichiers"
   ]
  },
  {
   "cell_type": "markdown",
   "metadata": {
    "slideshow": {
     "slide_type": "subslide"
    }
   },
   "source": [
    "## Qui connait quoi?\n",
    "\n",
    "`makefile`"
   ]
  },
  {
   "cell_type": "markdown",
   "metadata": {
    "slideshow": {
     "slide_type": "fragment"
    }
   },
   "source": [
    "`gdb`"
   ]
  },
  {
   "cell_type": "markdown",
   "metadata": {
    "slideshow": {
     "slide_type": "fragment"
    }
   },
   "source": [
    "bibliothèques (librairies), édition de liens"
   ]
  },
  {
   "cell_type": "markdown",
   "metadata": {
    "slideshow": {
     "slide_type": "slide"
    }
   },
   "source": [
    "## Qui connait quoi?\n",
    "\n",
    "`printf()`"
   ]
  },
  {
   "cell_type": "markdown",
   "metadata": {
    "slideshow": {
     "slide_type": "fragment"
    }
   },
   "source": [
    "`scanf()`"
   ]
  },
  {
   "cell_type": "markdown",
   "metadata": {
    "slideshow": {
     "slide_type": "fragment"
    }
   },
   "source": [
    "`fprintf()`"
   ]
  },
  {
   "cell_type": "markdown",
   "metadata": {
    "slideshow": {
     "slide_type": "fragment"
    }
   },
   "source": [
    "`fscanf()`"
   ]
  }
 ],
 "metadata": {
  "celltoolbar": "Slideshow",
  "kernelspec": {
   "display_name": "Python 3",
   "language": "python",
   "name": "python3"
  },
  "language_info": {
   "codemirror_mode": {
    "name": "ipython",
    "version": 3
   },
   "file_extension": ".py",
   "mimetype": "text/x-python",
   "name": "python",
   "nbconvert_exporter": "python",
   "pygments_lexer": "ipython3",
   "version": "3.6.8"
  }
 },
 "nbformat": 4,
 "nbformat_minor": 2
}
